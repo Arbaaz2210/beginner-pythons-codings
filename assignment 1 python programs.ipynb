{
 "cells": [
  {
   "cell_type": "markdown",
   "id": "ebb7a07f",
   "metadata": {},
   "source": [
    "#                                           Assignment 1 (LEARNING PYTHON)"
   ]
  },
  {
   "cell_type": "markdown",
   "id": "251e0e91",
   "metadata": {},
   "source": [
    "#### Mohammed Arbaaz"
   ]
  },
  {
   "cell_type": "markdown",
   "id": "894c12f5",
   "metadata": {},
   "source": [
    "#### mdarbaaz.ae18@rvce.edu.in"
   ]
  },
  {
   "cell_type": "markdown",
   "id": "91aea657",
   "metadata": {},
   "source": [
    "#### 9900537766"
   ]
  },
  {
   "cell_type": "markdown",
   "id": "c968efeb",
   "metadata": {},
   "source": [
    "#### R.V College of Engineering"
   ]
  },
  {
   "cell_type": "markdown",
   "id": "4bb47cb7",
   "metadata": {},
   "source": [
    "1). A company decided to give bonus of 5% to employee if his/her year of service is\n",
    "more than 5 years. Ask user for their salary and year of service and print the net\n",
    "bonus amount."
   ]
  },
  {
   "cell_type": "code",
   "execution_count": 5,
   "id": "babd269d",
   "metadata": {},
   "outputs": [
    {
     "name": "stdout",
     "output_type": "stream",
     "text": [
      "Enter your salary:50000\n",
      "Enter Years of service:2\n",
      "You are not eligible for bonus amount as you have less than 5 years of service.\n"
     ]
    }
   ],
   "source": [
    "salary = float(input(\"Enter your salary:\"))\n",
    "\n",
    "service_years = float(input(\"Enter Years of service:\"))\n",
    "\n",
    "if service_years > 5:\n",
    "\n",
    "    print(\"Your salary incluing the Bonus amount is = \",salary + (salary)*5/100)\n",
    "\n",
    "else:\n",
    "\n",
    "     print(\"You are not eligible for bonus amount as you have less than 5 years of service.\")"
   ]
  },
  {
   "cell_type": "markdown",
   "id": "fe306e16",
   "metadata": {},
   "source": [
    "2).A school has following rules for grading system:\n",
    "a. Below 25 - F\n",
    "b. 25 to 45 - E\n",
    "c. 45 to 50 - D\n",
    "d. 50 to 60 - C\n",
    "e. 60 to 80 - B\n",
    "f. Above 80 - A\n",
    "Ask user to enter marks and print the corresponding grade."
   ]
  },
  {
   "cell_type": "code",
   "execution_count": 9,
   "id": "a3266490",
   "metadata": {},
   "outputs": [
    {
     "name": "stdout",
     "output_type": "stream",
     "text": [
      "Enter your score: > 92\n",
      "your grade is: A\n"
     ]
    }
   ],
   "source": [
    "score = float(input(\"Enter your score: > \"))\n",
    "\n",
    "if score < 25:  \n",
    "\n",
    "   print(\"your grade is : F\")\n",
    "\n",
    "elif score >= 25 and score < 45:  \n",
    "\n",
    "   print(\"your grade is: E\")\n",
    "\n",
    "elif score >= 45 and score < 50:  \n",
    "\n",
    "   print(\"your grade is :D\")\n",
    "\n",
    "elif score >= 50 and score < 60:  \n",
    "\n",
    "   print(\"your grade is : C\")\n",
    "\n",
    "elif score >= 60 and score < 80:  \n",
    "\n",
    "   print(\"your grade is : B\")\n",
    "\n",
    "else:  \n",
    "\n",
    "   print(\"your grade is: A\")"
   ]
  },
  {
   "cell_type": "markdown",
   "id": "e28cf0fd",
   "metadata": {},
   "source": [
    "3).A student will not be allowed to sit in exam if his/her attendence is less than 75%.\n",
    "Take following input from user\n",
    "Number of classes held\n",
    "Number of classes attended.\n",
    "And print\n",
    "percentage of class attended\n",
    "Is student is allowed to sit in exam or not"
   ]
  },
  {
   "cell_type": "code",
   "execution_count": 26,
   "id": "1ec98cc6",
   "metadata": {},
   "outputs": [
    {
     "name": "stdout",
     "output_type": "stream",
     "text": [
      "Enter the number of classes held:> 40\n",
      "Enter the number of classes attended:> 22\n",
      "Your attendance percentage is:>  55\n",
      "You are not allowed to sit in the exam hall\n"
     ]
    }
   ],
   "source": [
    "a = int(input(\"Enter the number of classes held:> \"))\n",
    "\n",
    "b = int(input(\"Enter the number of classes attended:> \"))\n",
    "\n",
    "c = int(b/a*100)\n",
    "\n",
    "print(\"Your attendance percentage is:> \",c)\n",
    "\n",
    "if c >= 75:\n",
    "    \n",
    "    print(\"You are allowed to sit in the exam hall\")\n",
    "    \n",
    "else:\n",
    "    \n",
    "    print(\"You are not allowed to sit in the exam hall\")"
   ]
  },
  {
   "cell_type": "markdown",
   "id": "8b440e05",
   "metadata": {},
   "source": [
    "4). Ask user to enter age, sex ( M or F ), marital status ( Y or N ) and then using\n",
    "following rules print their place of service.\n",
    "-if employee is female, then she will work only in urban areas.\n",
    "-if employee is a male and age is in between 20 to 40 then he may work in anywhere\n",
    "-if employee is male and age is in between 40 to 60 then he will work in urban areas\n",
    "only."
   ]
  },
  {
   "cell_type": "code",
   "execution_count": 170,
   "id": "de79542e",
   "metadata": {},
   "outputs": [
    {
     "name": "stdout",
     "output_type": "stream",
     "text": [
      "Enter your age:> 45\n",
      "Enter your sex{M or F}:>M\n",
      "Enter your marital status{Y or N}:>F\n",
      "you are allowed to work only in urban areas\n"
     ]
    }
   ],
   "source": [
    "age = int(input(\"Enter your age:> \"))\n",
    "sex = str(input(\"Enter your sex{M or F}:>\"))\n",
    "mar_stat = str(input(\"Enter your marital status{Y or N}:>\"))\n",
    "\n",
    "while (age>=20) and (age<=60):\n",
    "    if sex=='F':\n",
    "        print(\"you are allowed to only work in urban areas\")\n",
    "        break\n",
    "    \n",
    "    elif (sex=='M') and (age>=20 and age<40):\n",
    "        print(\"you are allowed to work anywhere\")\n",
    "        break\n",
    "        \n",
    "    elif (sex=='M') and (age>=40 and age<=60):\n",
    "        print(\"you are allowed to work only in urban areas\")\n",
    "        break\n",
    "else:\n",
    "    print(\"ERROR\")\n",
    "        "
   ]
  },
  {
   "cell_type": "markdown",
   "id": "5d3048c9",
   "metadata": {},
   "source": [
    "5).Take 10 integers from keyboard using loop and print their average value on the\n",
    "screen."
   ]
  },
  {
   "cell_type": "code",
   "execution_count": 96,
   "id": "bfcda9e0",
   "metadata": {},
   "outputs": [
    {
     "name": "stdout",
     "output_type": "stream",
     "text": [
      "Enter the integer, 1:> 10\n",
      "Enter the integer, 2:> 20\n",
      "Enter the integer, 3:> 30\n",
      "Enter the integer, 4:> 40\n",
      "Enter the integer, 5:> 50\n",
      "Enter the integer, 6:> 60\n",
      "Enter the integer, 7:> 70\n",
      "Enter the integer, 8:> 80\n",
      "Enter the integer, 9:> 90\n",
      "Enter the integer, 10:> 100\n",
      "The average value of 10 integers is:>  55.0\n"
     ]
    }
   ],
   "source": [
    "i = 1\n",
    "s=0\n",
    "while i<=10:\n",
    "    n=int(input(f'Enter the integer, {i}:> '))\n",
    "    s = s+n\n",
    "    i = i+1\n",
    "print('The average value of 10 integers is:> ', s/10)\n"
   ]
  },
  {
   "cell_type": "markdown",
   "id": "6b1065f2",
   "metadata": {},
   "source": [
    "6).Write a program to calculate factorial of a number."
   ]
  },
  {
   "cell_type": "code",
   "execution_count": 104,
   "id": "5fc58cc9",
   "metadata": {},
   "outputs": [
    {
     "name": "stdout",
     "output_type": "stream",
     "text": [
      "enter the number whose factorial is to be calulated:> 5\n",
      "the factorial of the number entered 5 is:>  120\n"
     ]
    }
   ],
   "source": [
    "fac = int(input('enter the number whose factorial is to be calulated:> '))\n",
    "f=1\n",
    "i=1\n",
    "while i<=fac:\n",
    "    f=f*i\n",
    "    i=i+1\n",
    "print(f'the factorial of the number entered {fac} is:> ', f)\n"
   ]
  },
  {
   "cell_type": "markdown",
   "id": "f884b52e",
   "metadata": {},
   "source": [
    "7).Take integer inputs from user until he/she presses q ( Ask to press q to quit after\n",
    "every integer input ). Print average and product of all numbers."
   ]
  },
  {
   "cell_type": "code",
   "execution_count": 134,
   "id": "40d2cfd5",
   "metadata": {},
   "outputs": [
    {
     "name": "stdout",
     "output_type": "stream",
     "text": [
      "enter the number:> 5\n",
      "enter the number:> 4\n",
      "enter the number:> 3\n",
      "enter the number:> q\n",
      "the average of the numbers entered is:>  4.0\n",
      "the product of all numbers entered is:>  60\n"
     ]
    }
   ],
   "source": [
    "sum1 = 0\n",
    "count = 0\n",
    "prod = 1\n",
    "i=1\n",
    "for i in range(1000):\n",
    "    s = str(input('enter the number:> '))\n",
    "    i=i+1\n",
    "    if s=='q':\n",
    "        break\n",
    "    else:\n",
    "        sum1 = sum1 + int(s)\n",
    "        prod = prod*int(s)\n",
    "avg = sum1/(i-1)\n",
    "print('the average of the numbers entered is:> ', avg)\n",
    "print('the product of all numbers entered is:> ', prod)"
   ]
  },
  {
   "cell_type": "markdown",
   "id": "a69fba6a",
   "metadata": {},
   "source": [
    "8).A three digit number is called Armstrong number if sum of cube of its digit is equal to\n",
    "number itself.\n",
    "E.g.- 153 is an Armstrong number because (1^3 + 5^3 + 3^3) = 153\n",
    "Write all Armstrong numbers between 100 to 500."
   ]
  },
  {
   "cell_type": "code",
   "execution_count": null,
   "id": "21f6fc94",
   "metadata": {},
   "outputs": [
    {
     "name": "stdout",
     "output_type": "stream",
     "text": [
      "1\n"
     ]
    }
   ],
   "source": [
    "sum1=0\n",
    "j=1\n",
    "i=1\n",
    "for i in range(100,500):\n",
    "    \n",
    "    while i>0:\n",
    "        digit = i % 10\n",
    "        sum1 =sum1+ (digit ** 3)\n",
    "        i =i// 10\n",
    "        i=j\n",
    "        if sum1==j:\n",
    "            print(sum1)"
   ]
  },
  {
   "cell_type": "markdown",
   "id": "c22e948f",
   "metadata": {},
   "source": [
    "9).Write a program to find the length of the string \"refrigerator\" without\n",
    "using len function."
   ]
  },
  {
   "cell_type": "code",
   "execution_count": 166,
   "id": "b82eb527",
   "metadata": {},
   "outputs": [
    {
     "name": "stdout",
     "output_type": "stream",
     "text": [
      "12\n"
     ]
    }
   ],
   "source": [
    "a = 'refrigerator'\n",
    "count=0\n",
    "for i in a:\n",
    "    count = count+1\n",
    "print(count)\n"
   ]
  },
  {
   "cell_type": "markdown",
   "id": "ba9a0e28",
   "metadata": {},
   "source": [
    "10).Write a program that takes your full name as input and displays the abbreviations of\n",
    "the first and middle names except the last name which is displayed as it is. For\n",
    "example, if your name is Robert Brett Roser, then the output should be R.B.Roser."
   ]
  },
  {
   "cell_type": "code",
   "execution_count": 169,
   "id": "6c602714",
   "metadata": {},
   "outputs": [
    {
     "name": "stdout",
     "output_type": "stream",
     "text": [
      "enter your first,middle, last name:> Mohammed Shaikh Arbaaz\n",
      "M.S.Arbaaz\n"
     ]
    }
   ],
   "source": [
    "a1= str(input('enter your first,middle, last name:> '))\n",
    "a1=a1.split()\n",
    "b1=a1[0][0]+\".\"+a1[1][0]+'.'+a1[2]\n",
    "print(b1)"
   ]
  }
 ],
 "metadata": {
  "kernelspec": {
   "display_name": "Python 3",
   "language": "python",
   "name": "python3"
  },
  "language_info": {
   "codemirror_mode": {
    "name": "ipython",
    "version": 3
   },
   "file_extension": ".py",
   "mimetype": "text/x-python",
   "name": "python",
   "nbconvert_exporter": "python",
   "pygments_lexer": "ipython3",
   "version": "3.8.8"
  }
 },
 "nbformat": 4,
 "nbformat_minor": 5
}
